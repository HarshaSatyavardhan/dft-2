{
 "cells": [
  {
   "cell_type": "code",
   "execution_count": 25,
   "metadata": {},
   "outputs": [],
   "source": [
    "from pymatgen.io.vasp import Potcar\n",
    "import pymatgen"
   ]
  },
  {
   "cell_type": "code",
   "execution_count": 26,
   "metadata": {},
   "outputs": [],
   "source": [
    "def print_file(fname, nlines=10, header=False):\n",
    "    with open(fname) as f:\n",
    "        lines = f.readlines()\n",
    "        if nlines == 0:\n",
    "            nlines = len(lines)\n",
    "        content = \"\".join(lines[:nlines])\n",
    "        if len(lines) > nlines:\n",
    "            content += \"...\"\n",
    "        if header:\n",
    "            print(f\"---{fname}---\")\n",
    "        print(content)"
   ]
  },
  {
   "cell_type": "code",
   "execution_count": 30,
   "metadata": {},
   "outputs": [
    {
     "name": "stdout",
     "output_type": "stream",
     "text": [
      "Full Formula (Na1 Cl1)\n",
      "Reduced Formula: NaCl\n",
      "abc   :   5.640000   5.640000   5.640000\n",
      "angles:  90.000000  90.000000  90.000000\n",
      "pbc   :       True       True       True\n",
      "Sites (2)\n",
      "  #  SP      a    b    c\n",
      "---  ----  ---  ---  ---\n",
      "  0  Na    0    0    0\n",
      "  1  Cl    0.5  0.5  0.5\n"
     ]
    }
   ],
   "source": [
    "from pymatgen.core import Structure, Lattice\n",
    "\n",
    "lattice = Lattice.cubic(5.64)\n",
    "structure = Structure(lattice, [\"Na\", \"Cl\"], [[0,0,0], [0.5, 0.5, 0.5]])\n",
    "structure.sort()\n",
    "print(structure)"
   ]
  },
  {
   "cell_type": "code",
   "execution_count": 29,
   "metadata": {},
   "outputs": [
    {
     "name": "stderr",
     "output_type": "stream",
     "text": [
      "/home2/harsha.vasamsetti/miniconda3/envs/slices/lib/python3.9/site-packages/pymatgen/io/vasp/sets.py:366: BadInputSetWarning: Overriding the POTCAR functional is generally not recommended  as it significantly affect the results of calculations and compatibility with other calculations done with the same input set. Note that some POTCAR symbols specified in the configuration file may not be available in the selected functional.\n",
      "  warnings.warn(\n"
     ]
    }
   ],
   "source": [
    "# # structure relaxation\n",
    "# from pymatgen.io.vasp.sets import MPRelaxSet\n",
    "\n",
    "# vasp_input_set = MPRelaxSet(structure, user_potcar_functional='PBE_54')\n",
    "# vasp_input_set.write_input(\".\")"
   ]
  },
  {
   "cell_type": "code",
   "execution_count": 18,
   "metadata": {},
   "outputs": [],
   "source": [
    "# from pymatgen.io.vasp.sets import MPScanRelaxSet\n",
    "\n",
    "# vasp_input_set = MPScanRelaxSet(structure, vdw=\"rVV10\")\n",
    "# vasp_input_set.write_input(\".\")"
   ]
  },
  {
   "cell_type": "code",
   "execution_count": 31,
   "metadata": {},
   "outputs": [
    {
     "name": "stdout",
     "output_type": "stream",
     "text": [
      "---INCAR---\n",
      "ALGO = Normal\n",
      "EDIFF = 1e-05\n",
      "EDIFFG = -0.02\n",
      "ENCUT = 520\n",
      "IBRION = -1\n",
      "ISIF = 3\n",
      "ISMEAR = 0\n",
      "ISPIN = 1\n",
      "ISYM = 0\n",
      "LAECHG = True\n",
      "LASPH = True\n",
      "LCHARG = False\n",
      "LORBIT = False\n",
      "LREAL = False\n",
      "LVHAR = True\n",
      "LWAVE = False\n",
      "MAGMOM = 2*0.6\n",
      "NELM = 100\n",
      "NSW = 99\n",
      "PREC = Accurate\n",
      "SIGMA = 0.05\n",
      "\n",
      "---KPOINTS---\n",
      "pymatgen with grid density = 177 / number of atoms\n",
      "0\n",
      "Monkhorst\n",
      "4 4 4\n",
      "\n"
     ]
    },
    {
     "name": "stderr",
     "output_type": "stream",
     "text": [
      "/home2/harsha.vasamsetti/miniconda3/envs/slices/lib/python3.9/site-packages/pymatgen/io/vasp/sets.py:366: BadInputSetWarning: Overriding the POTCAR functional is generally not recommended  as it significantly affect the results of calculations and compatibility with other calculations done with the same input set. Note that some POTCAR symbols specified in the configuration file may not be available in the selected functional.\n",
      "  warnings.warn(\n"
     ]
    }
   ],
   "source": [
    "from pymatgen.io.vasp.sets import MPStaticSet, MPRelaxSet\n",
    "\n",
    "user_incar_settings = { 'EDIFF': 1e-5,\n",
    "                        'EDIFFG': -0.02,\n",
    "                        'LREAL': False,\n",
    "                        'NSW': 99,\n",
    "                        'ALGO': 'Normal',\n",
    "                        'PREC': 'Accurate',\n",
    "                        'ISMEAR': 0,\n",
    "                        'SIGMA': 0.05,\n",
    "                        'ISIF': 3,\n",
    "                        'LORBIT': False,\n",
    "                        'LCHARG': False,\n",
    "                        'LWAVE': False,\n",
    "                        'LDAU': False,\n",
    "                        'ISPIN': 1,\n",
    "                        'ISYM': 0\n",
    "                            }\n",
    "\n",
    "user_kpoint_settings = {'reciprocal_density': 64}\n",
    "\n",
    "vasp_input_set = MPStaticSet(structure, \n",
    "                             user_incar_settings=user_incar_settings,\n",
    "                             user_kpoints_settings = user_kpoint_settings,\n",
    "                             user_potcar_functional='PBE_54')\n",
    "\n",
    "vasp_input_set.write_input(\".\")\n",
    "\n",
    "print_file(\"INCAR\", nlines=0, header=True)\n",
    "print_file(\"KPOINTS\", nlines=10, header=True)"
   ]
  },
  {
   "cell_type": "code",
   "execution_count": 32,
   "metadata": {},
   "outputs": [],
   "source": [
    "# Generate relaxation set input files\n",
    "vasp_input_set = MPRelaxSet(structure, user_potcar_functional='PBE_54')\n",
    "vasp_input_set.write_input(\"./relax\")"
   ]
  },
  {
   "cell_type": "code",
   "execution_count": null,
   "metadata": {},
   "outputs": [],
   "source": [
    "# Run VASP\n",
    "print(\"\\nRunning VASP for structure relaxation...\")"
   ]
  },
  {
   "cell_type": "code",
   "execution_count": 33,
   "metadata": {},
   "outputs": [
    {
     "name": "stdout",
     "output_type": "stream",
     "text": [
      "--------------------------------------------------------------------------\n",
      "mpirun was unable to find the specified executable file, and therefore\n",
      "did not launch the job.  This error was first reported for process\n",
      "rank 0; it may have occurred for other processes as well.\n",
      "\n",
      "NOTE: A common cause for this error is misspelling a mpirun command\n",
      "      line parameter option (remember that mpirun interprets the first\n",
      "      unrecognized command line token as the executable).\n",
      "\n",
      "Node:       gnode114\n",
      "Executable: vasp_gpu\n",
      "--------------------------------------------------------------------------\n",
      "Error running VASP: Command '['mpirun', '-np', '1', 'vasp_gpu']' returned non-zero exit status 134.\n"
     ]
    }
   ],
   "source": [
    "import subprocess\n",
    "\n",
    "\n",
    "vasp_cmd = [\"mpirun\", \"-np\", \"1\", \"vasp_gpu\"]\n",
    "try:\n",
    "    subprocess.run(vasp_cmd, cwd=\"./relax\", check=True)\n",
    "    print(\"VASP relaxation completed successfully.\")\n",
    "except subprocess.CalledProcessError as e:\n",
    "    print(f\"Error running VASP: {e}\")\n",
    "    exit(1)"
   ]
  },
  {
   "cell_type": "code",
   "execution_count": null,
   "metadata": {},
   "outputs": [],
   "source": [
    "import json\n",
    "from pymatgen.entries.compatibility import MaterialsProjectCompatibility\n",
    "\n",
    "with open('./chemPotMP.json') as handle:\n",
    "        chemPot = json.load(handle)\n",
    "        \n",
    "\n",
    "compat = MaterialsProjectCompatibility()\n",
    "compat.process_entries(entries)\n",
    "entry = entries[0]\n",
    "\n",
    "enthalpyForm = entry.energy\n",
    "temp = entry.composition.get_el_amt_dict()\n",
    "for element, amount in temp.items():\n",
    "    enthalpyForm -= amount * chemPot[element]\n",
    "enthalpyForm /= entry.composition.num_atoms\n",
    "\n",
    "with open(\"CONTCAR.relax\", \"r\") as fn2:\n",
    "    poscar = fn2.read().replace('\\n', '\\\\n')\n",
    "\n",
    "result_file.write(f\"{row[0]},{row[1]},{enthalpyForm},{poscar},{row[4]}\\n\")"
   ]
  },
  {
   "cell_type": "code",
   "execution_count": 1,
   "metadata": {},
   "outputs": [
    {
     "data": {
      "text/html": [
       "<div>\n",
       "<style scoped>\n",
       "    .dataframe tbody tr th:only-of-type {\n",
       "        vertical-align: middle;\n",
       "    }\n",
       "\n",
       "    .dataframe tbody tr th {\n",
       "        vertical-align: top;\n",
       "    }\n",
       "\n",
       "    .dataframe thead th {\n",
       "        text-align: right;\n",
       "    }\n",
       "</style>\n",
       "<table border=\"1\" class=\"dataframe\">\n",
       "  <thead>\n",
       "    <tr style=\"text-align: right;\">\n",
       "      <th></th>\n",
       "      <th>Compound</th>\n",
       "      <th>Spacegroup</th>\n",
       "      <th>Band_Gap</th>\n",
       "      <th>Band_Gap_Type</th>\n",
       "      <th>POSCAR</th>\n",
       "    </tr>\n",
       "  </thead>\n",
       "  <tbody>\n",
       "    <tr>\n",
       "      <th>0</th>\n",
       "      <td>NaCl</td>\n",
       "      <td>Pm-3m</td>\n",
       "      <td>3.9759</td>\n",
       "      <td>M-\\Gamma</td>\n",
       "      <td>Na1 Cl1                                 \\n   1...</td>\n",
       "    </tr>\n",
       "  </tbody>\n",
       "</table>\n",
       "</div>"
      ],
      "text/plain": [
       "  Compound Spacegroup  Band_Gap Band_Gap_Type  \\\n",
       "0     NaCl      Pm-3m    3.9759      M-\\Gamma   \n",
       "\n",
       "                                              POSCAR  \n",
       "0  Na1 Cl1                                 \\n   1...  "
      ]
     },
     "execution_count": 1,
     "metadata": {},
     "output_type": "execute_result"
    }
   ],
   "source": [
    "import pandas as pd\n",
    "pd.read_csv(\"/scratch/harsha.vasamsetti/results.csv\")"
   ]
  }
 ],
 "metadata": {
  "kernelspec": {
   "display_name": "slices",
   "language": "python",
   "name": "python3"
  },
  "language_info": {
   "codemirror_mode": {
    "name": "ipython",
    "version": 3
   },
   "file_extension": ".py",
   "mimetype": "text/x-python",
   "name": "python",
   "nbconvert_exporter": "python",
   "pygments_lexer": "ipython3",
   "version": "3.9.18"
  }
 },
 "nbformat": 4,
 "nbformat_minor": 2
}
